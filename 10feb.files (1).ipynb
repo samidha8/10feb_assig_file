{
 "cells": [
  {
   "cell_type": "code",
   "execution_count": 1,
   "id": "572f62a5-4b34-497a-bdb7-49cd7ff65a0c",
   "metadata": {},
   "outputs": [
    {
     "data": {
      "text/plain": [
       "'Q1. Which function is used to open a file? What are the different modes of opening a file? Explain each mode\\nof file opening.'"
      ]
     },
     "execution_count": 1,
     "metadata": {},
     "output_type": "execute_result"
    }
   ],
   "source": [
    "\"\"\"Q1. Which function is used to open a file? What are the different modes of opening a file? Explain each mode\n",
    "of file opening.\"\"\""
   ]
  },
  {
   "cell_type": "code",
   "execution_count": 2,
   "id": "e8ce2b2d-2363-4dac-80ca-a90c84641143",
   "metadata": {},
   "outputs": [
    {
     "data": {
      "text/plain": [
       "'fopen is a standard function which is used to open a file. If the file is not present on the system, then it is created and then opened'"
      ]
     },
     "execution_count": 2,
     "metadata": {},
     "output_type": "execute_result"
    }
   ],
   "source": [
    "\"\"\"fopen is a standard function which is used to open a file. If the file is not present on the system, then it is created and then opened\"\"\""
   ]
  },
  {
   "cell_type": "code",
   "execution_count": 5,
   "id": "5fd9ca63-13c5-43a0-b762-cec15560c3aa",
   "metadata": {},
   "outputs": [
    {
     "data": {
      "text/plain": [
       "'1)r =Open a file for reading. (default)\\n2)w =Open a file for writing. Creates a new file if it does not exist or truncates the file if it exists.\\n3)x=Open a file for exclusive creation. If the file already exists, the operation fails.\\n4)a=Open a file for appending at the end of the file without truncating it. Creates a new file if it does not exist.\\n5)t =Open in text mode. (default)\\n6) b = Open in binary mode.\\n7)+ = Open a file for updating (reading and writing)'"
      ]
     },
     "execution_count": 5,
     "metadata": {},
     "output_type": "execute_result"
    }
   ],
   "source": [
    "\"\"\"1)r =Open a file for reading. (default)\n",
    "2)w =Open a file for writing. Creates a new file if it does not exist or truncates the file if it exists.\n",
    "3)x=Open a file for exclusive creation. If the file already exists, the operation fails.\n",
    "4)a=Open a file for appending at the end of the file without truncating it. Creates a new file if it does not exist.\n",
    "5)t =Open in text mode. (default)\n",
    "6) b = Open in binary mode.\n",
    "7)+ = Open a file for updating (reading and writing)\"\"\""
   ]
  },
  {
   "cell_type": "code",
   "execution_count": null,
   "id": "44705d86-25fb-4f49-b871-e5c400b1f60b",
   "metadata": {},
   "outputs": [],
   "source": []
  },
  {
   "cell_type": "code",
   "execution_count": null,
   "id": "ee133db1-d886-43fc-a49d-b900f7a1adb2",
   "metadata": {},
   "outputs": [],
   "source": [
    "Q2. Why close() function is used? Why is it important to close a file?"
   ]
  },
  {
   "cell_type": "code",
   "execution_count": 6,
   "id": "5bca118c-c1a6-46c2-950d-ed7a1ee6ddb8",
   "metadata": {},
   "outputs": [
    {
     "data": {
      "text/plain": [
       "'Python file method close() closes the opened file. A closed file cannot be read or written any more. Any operation, which requires that the file be opened will raise a ValueError after the file has been closed. Calling close() more than once is allowed.\\n\\nPython automatically closes a file when the reference object of a file is reassigned to another file. It is a good practice to use the close() method to close a file'"
      ]
     },
     "execution_count": 6,
     "metadata": {},
     "output_type": "execute_result"
    }
   ],
   "source": [
    "\"\"\"Python file method close() closes the opened file. A closed file cannot be read or written any more. Any operation, which requires that the file be opened will raise a ValueError after the file has been closed. Calling close() more than once is allowed.\n",
    "\n",
    "Python automatically closes a file when the reference object of a file is reassigned to another file. It is a good practice to use the close() method to close a file\"\"\""
   ]
  },
  {
   "cell_type": "code",
   "execution_count": 7,
   "id": "c209d6af-09da-4b75-8f93-e715fb34682c",
   "metadata": {},
   "outputs": [
    {
     "data": {
      "text/plain": [
       "'Because files are limited resources managed by the operating system, making sure files are closed after use will protect against hard-to-debug issues like running out of file handles or experiencing corrupted data. The best defense is always to open files with a context manager.'"
      ]
     },
     "execution_count": 7,
     "metadata": {},
     "output_type": "execute_result"
    }
   ],
   "source": [
    "\"\"\"Because files are limited resources managed by the operating system, making sure files are closed after use will protect against hard-to-debug issues like running out of file handles or experiencing corrupted data. The best defense is always to open files with a context manager.\"\"\""
   ]
  },
  {
   "cell_type": "code",
   "execution_count": 2,
   "id": "e786f00c-c136-460d-b568-2987d8bb56e4",
   "metadata": {},
   "outputs": [
    {
     "data": {
      "text/plain": [
       "'Q3. Write a python program to create a text file. Write ‘I want to become a Data Scientist’ in that file. Then\\nclose the file. Open this file and read the content of the file.'"
      ]
     },
     "execution_count": 2,
     "metadata": {},
     "output_type": "execute_result"
    }
   ],
   "source": [
    "\"\"\"Q3. Write a python program to create a text file. Write ‘I want to become a Data Scientist’ in that file. Then\n",
    "close the file. Open this file and read the content of the file.\"\"\""
   ]
  },
  {
   "cell_type": "code",
   "execution_count": 9,
   "id": "927dfd2d-d833-4282-8ade-f6b25494e20e",
   "metadata": {},
   "outputs": [],
   "source": [
    "f = open(\"text_file\", \"w\")"
   ]
  },
  {
   "cell_type": "code",
   "execution_count": 10,
   "id": "2e32106e-f09c-4aef-9232-53f4a5c03c77",
   "metadata": {},
   "outputs": [
    {
     "data": {
      "text/plain": [
       "33"
      ]
     },
     "execution_count": 10,
     "metadata": {},
     "output_type": "execute_result"
    }
   ],
   "source": [
    "f.write(\"I want to become a Data Scientist\")"
   ]
  },
  {
   "cell_type": "code",
   "execution_count": 11,
   "id": "e8de4460-9d93-45b5-8327-9aecf8ac1d51",
   "metadata": {},
   "outputs": [],
   "source": [
    "f.close()"
   ]
  },
  {
   "cell_type": "code",
   "execution_count": 12,
   "id": "a55df2bd-c59d-4184-8aad-1362d7769fdf",
   "metadata": {},
   "outputs": [],
   "source": [
    "f = open(\"text_file\" , \"r\")"
   ]
  },
  {
   "cell_type": "code",
   "execution_count": 13,
   "id": "e6d11ec5-ce49-4ded-bccd-0bd0b1fba555",
   "metadata": {},
   "outputs": [
    {
     "data": {
      "text/plain": [
       "'I want to become a Data Scientist'"
      ]
     },
     "execution_count": 13,
     "metadata": {},
     "output_type": "execute_result"
    }
   ],
   "source": [
    "f.read()"
   ]
  },
  {
   "cell_type": "code",
   "execution_count": null,
   "id": "08965077-1303-4ba2-b49b-0240bb72ae4a",
   "metadata": {},
   "outputs": [],
   "source": [
    "#Q4Explain the following with python code: read(), readline() and readlines()."
   ]
  },
  {
   "cell_type": "code",
   "execution_count": null,
   "id": "63596e47-e3e3-4873-8519-7d4e087cc1ec",
   "metadata": {},
   "outputs": [],
   "source": [
    "#read() function reads data previously written to a file.\n",
    "#read() method returns the specified number of bytes from the file\n",
    "#readline() method returns one line from the file. \n",
    "#You can also specified how many bytes from the line to return,using the size parameter.\n",
    "# readlines() method returns a list containing each line in the file as a list item"
   ]
  },
  {
   "cell_type": "code",
   "execution_count": 15,
   "id": "735ee864-9d26-4e28-8633-97a654cf3320",
   "metadata": {},
   "outputs": [
    {
     "data": {
      "text/plain": [
       "'Q5. Explain why with statement is used with open(). What is the advantage of using with statement and\\nopen() together?'"
      ]
     },
     "execution_count": 15,
     "metadata": {},
     "output_type": "execute_result"
    }
   ],
   "source": [
    "\"\"\"Q5. Explain why with statement is used with open(). What is the advantage of using with statement and\n",
    "open() together?\"\"\""
   ]
  },
  {
   "cell_type": "code",
   "execution_count": 14,
   "id": "151b21c7-0cd3-49f4-a39d-09f058088522",
   "metadata": {},
   "outputs": [
    {
     "data": {
      "text/plain": [
       "'The with statement works with the open() function to open a file. Unlike open() where you have to close the file with the close() method, the with statement closes the file for you without you telling it to. This is because the with statement calls 2 built-in methods behind the scene – __enter()__ and __exit()__ .'"
      ]
     },
     "execution_count": 14,
     "metadata": {},
     "output_type": "execute_result"
    }
   ],
   "source": [
    "\"\"\"The with statement works with the open() function to open a file. Unlike open() where you have to close the file with the close() method, the with statement closes the file for you without you telling it to. This is because the with statement calls 2 built-in methods behind the scene – __enter()__ and __exit()__ .\"\"\""
   ]
  },
  {
   "cell_type": "code",
   "execution_count": 18,
   "id": "2e5bda47-43af-46d4-af67-cd14e232507d",
   "metadata": {},
   "outputs": [],
   "source": [
    "#Q6. Explain the write() and writelines() functions. Give a suitable example."
   ]
  },
  {
   "cell_type": "code",
   "execution_count": 17,
   "id": "956dc2fe-f75c-4223-834a-e475b20ae68d",
   "metadata": {},
   "outputs": [],
   "source": [
    "# write() method writes a specified text to the file\n",
    "#Where the specified text will be inserted depends on the file mode and stream position\n",
    "#eg.a=The text will be inserted at the end of current file stream position, append at end"
   ]
  },
  {
   "cell_type": "code",
   "execution_count": 16,
   "id": "fb9d70af-c16f-485c-b57e-db577658c584",
   "metadata": {},
   "outputs": [],
   "source": [
    "#writelines() method writes the items of a list to the file.\n",
    "#the texts will be inserted depends on the file mode and stream position\n",
    "#\"=a = The texts will be inserted at the current file stream position"
   ]
  },
  {
   "cell_type": "code",
   "execution_count": null,
   "id": "0cfb2ad4-4c4d-420e-9013-deb53aae9120",
   "metadata": {},
   "outputs": [],
   "source": []
  }
 ],
 "metadata": {
  "kernelspec": {
   "display_name": "Python 3 (ipykernel)",
   "language": "python",
   "name": "python3"
  },
  "language_info": {
   "codemirror_mode": {
    "name": "ipython",
    "version": 3
   },
   "file_extension": ".py",
   "mimetype": "text/x-python",
   "name": "python",
   "nbconvert_exporter": "python",
   "pygments_lexer": "ipython3",
   "version": "3.10.8"
  }
 },
 "nbformat": 4,
 "nbformat_minor": 5
}
